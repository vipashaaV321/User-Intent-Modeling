{
  "nbformat": 4,
  "nbformat_minor": 0,
  "metadata": {
    "colab": {
      "provenance": [],
      "authorship_tag": "ABX9TyPBeIFu7QRQW8brEeECZsw/",
      "include_colab_link": true
    },
    "kernelspec": {
      "name": "python3",
      "display_name": "Python 3"
    },
    "language_info": {
      "name": "python"
    }
  },
  "cells": [
    {
      "cell_type": "markdown",
      "metadata": {
        "id": "view-in-github",
        "colab_type": "text"
      },
      "source": [
        "<a href=\"https://colab.research.google.com/github/vipashaaV321/User-Intent-Modeling/blob/main/NMF_ProfileLearning.ipynb\" target=\"_parent\"><img src=\"https://colab.research.google.com/assets/colab-badge.svg\" alt=\"Open In Colab\"/></a>"
      ]
    },
    {
      "cell_type": "code",
      "source": [
        "from zipfile import ZipFile\n",
        "from urllib.request import urlretrieve\n",
        "import numpy as np\n",
        "import pandas as pd\n",
        "import tensorflow as tf\n",
        "from sklearn.neighbors import NearestNeighbors\n",
        "from sklearn.metrics import precision_score, recall_score\n",
        "from sklearn.decomposition import NMF"
      ],
      "metadata": {
        "id": "djVU3U_iyek6"
      },
      "execution_count": null,
      "outputs": []
    },
    {
      "cell_type": "code",
      "source": [
        "## extracting data\n",
        "urlretrieve(\"http://files.grouplens.org/datasets/movielens/ml-1m.zip\", \"movielens.zip\")\n",
        "ZipFile(\"movielens.zip\", \"r\").extractall()"
      ],
      "metadata": {
        "id": "tVqadeRvyelJ"
      },
      "execution_count": null,
      "outputs": []
    },
    {
      "cell_type": "code",
      "source": [
        "ratings = pd.read_csv(\n",
        "    \"ml-1m/ratings.dat\",\n",
        "    sep=\"::\",\n",
        "    names=[\"userId\", \"movieId\", \"rating\", \"unix_timestamp\"],\n",
        ")\n",
        "ratings.head()\n",
        "ratings_data = ratings"
      ],
      "metadata": {
        "colab": {
          "base_uri": "https://localhost:8080/"
        },
        "outputId": "98f5f121-07fa-44b5-a95f-ef627ccb484f",
        "id": "W0bkoZU5yelK"
      },
      "execution_count": null,
      "outputs": [
        {
          "output_type": "stream",
          "name": "stderr",
          "text": [
            "<ipython-input-3-bc50017c92e4>:1: ParserWarning: Falling back to the 'python' engine because the 'c' engine does not support regex separators (separators > 1 char and different from '\\s+' are interpreted as regex); you can avoid this warning by specifying engine='python'.\n",
            "  ratings = pd.read_csv(\n"
          ]
        }
      ]
    },
    {
      "cell_type": "code",
      "source": [
        "# Correctly retrieve the number of unique users and movies\n",
        "num_users = ratings_data['userId'].nunique()\n",
        "num_movies = ratings_data['movieId'].nunique()"
      ],
      "metadata": {
        "id": "omipiTofE5yx"
      },
      "execution_count": null,
      "outputs": []
    },
    {
      "cell_type": "code",
      "source": [
        "# Find the maximum user and movie IDs\n",
        "max_user_id = ratings_data['userId'].max()\n",
        "max_movie_id = ratings_data['movieId'].max()"
      ],
      "metadata": {
        "id": "0eRSaJjHE7Tk"
      },
      "execution_count": null,
      "outputs": []
    },
    {
      "cell_type": "code",
      "source": [
        "\n",
        "# Create an interaction matrix of the appropriate size\n",
        "interaction_matrix = np.zeros((max_user_id, max_movie_id))"
      ],
      "metadata": {
        "id": "JWoMtQiHE8pH"
      },
      "execution_count": null,
      "outputs": []
    },
    {
      "cell_type": "code",
      "source": [
        "# Fill the interaction matrix with ratings\n",
        "for _, row in ratings_data.iterrows():\n",
        "    user_id = row['userId']\n",
        "    movie_id = row['movieId']\n",
        "    rating = row['rating']\n",
        "    interaction_matrix[user_id - 1, movie_id - 1] = rating\n"
      ],
      "metadata": {
        "id": "Epoj7pAyE9SB"
      },
      "execution_count": null,
      "outputs": []
    },
    {
      "cell_type": "code",
      "source": [
        "# Define the number of components for NMF\n",
        "embedding_size = 8"
      ],
      "metadata": {
        "id": "w2BHmdQ5E_fk"
      },
      "execution_count": null,
      "outputs": []
    },
    {
      "cell_type": "code",
      "source": [
        "# Perform NMF on the interaction matrix\n",
        "nmf_model = NMF(n_components=embedding_size)\n",
        "user_embedding = nmf_model.fit_transform(interaction_matrix)\n",
        "movie_embedding = nmf_model.components"
      ],
      "metadata": {
        "id": "AduPoGX1FB2T"
      },
      "execution_count": null,
      "outputs": []
    },
    {
      "cell_type": "code",
      "source": [
        "# Initialize user and movie selection\n",
        "selected_user_id = 1\n",
        "selected_movie_id = 1193"
      ],
      "metadata": {
        "id": "7pyxZooFFFns"
      },
      "execution_count": null,
      "outputs": []
    },
    {
      "cell_type": "code",
      "execution_count": null,
      "metadata": {
        "id": "os0_uSdsEZeG"
      },
      "outputs": [],
      "source": [
        "while True:\n",
        "    # Get recommendations based on dot product of user and movie embeddings\n",
        "    user_profile = user_embedding[selected_user_id - 1, :]\n",
        "    movie_scores = np.dot(user_profile, movie_embedding)\n",
        "    top_movie_indices = np.argsort(movie_scores)[::-1]\n",
        "\n",
        "    # Extract the top recommendations\n",
        "    recommendations = top_movie_indices[:5]  # Show the top 5 recommendations\n",
        "\n",
        "    print(\"Top 5 Recommendations:\")\n",
        "    for i, movie_index in enumerate(recommendations):\n",
        "        movie_id = movie_index + 1\n",
        "        print(f\"{i + 1}. Movie ID: {movie_id}\")\n",
        "\n",
        "    # Ask the user to select a movie\n",
        "    user_input = input(\"Select a movie by ID or enter 'end' to stop: \")\n",
        "\n",
        "    if user_input == 'end':\n",
        "      break\n",
        "\n",
        "    # if user_input in recommendations:\n",
        "    selected_movie_id = int(user_input)\n",
        "\n",
        "    # Take user feedback after movie selection\n",
        "    feedback_score = float(input(\"Enter feedback score (e.g., 1.0 to 5.0): \"))  # User feedback\n",
        "    user_embedding[selected_user_id - 1, :] +=  feedback_score * movie_embedding[:, selected_movie_id - 1]"
      ]
    }
  ]
}