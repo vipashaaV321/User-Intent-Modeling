{
  "nbformat": 4,
  "nbformat_minor": 0,
  "metadata": {
    "colab": {
      "provenance": [],
      "authorship_tag": "ABX9TyN8ICb5GFGKnJqZIJfjZLvz",
      "include_colab_link": true
    },
    "kernelspec": {
      "name": "python3",
      "display_name": "Python 3"
    },
    "language_info": {
      "name": "python"
    }
  },
  "cells": [
    {
      "cell_type": "markdown",
      "metadata": {
        "id": "view-in-github",
        "colab_type": "text"
      },
      "source": [
        "<a href=\"https://colab.research.google.com/github/vipashaaV321/User-Intent-Modeling/blob/main/Neural_Collaborative_Filtering.ipynb\" target=\"_parent\"><img src=\"https://colab.research.google.com/assets/colab-badge.svg\" alt=\"Open In Colab\"/></a>"
      ]
    },
    {
      "cell_type": "code",
      "source": [
        "!pip install sentence_transformers"
      ],
      "metadata": {
        "colab": {
          "base_uri": "https://localhost:8080/"
        },
        "id": "kPYOOzOj79ks",
        "outputId": "18f850f2-a8db-4e1d-dfe8-a06c45fe8f16"
      },
      "execution_count": null,
      "outputs": [
        {
          "output_type": "stream",
          "name": "stdout",
          "text": [
            "Requirement already satisfied: sentence_transformers in /usr/local/lib/python3.10/dist-packages (2.2.2)\n",
            "Requirement already satisfied: transformers<5.0.0,>=4.6.0 in /usr/local/lib/python3.10/dist-packages (from sentence_transformers) (4.35.0)\n",
            "Requirement already satisfied: tqdm in /usr/local/lib/python3.10/dist-packages (from sentence_transformers) (4.66.1)\n",
            "Requirement already satisfied: torch>=1.6.0 in /usr/local/lib/python3.10/dist-packages (from sentence_transformers) (2.1.0+cu118)\n",
            "Requirement already satisfied: torchvision in /usr/local/lib/python3.10/dist-packages (from sentence_transformers) (0.16.0+cu118)\n",
            "Requirement already satisfied: numpy in /usr/local/lib/python3.10/dist-packages (from sentence_transformers) (1.23.5)\n",
            "Requirement already satisfied: scikit-learn in /usr/local/lib/python3.10/dist-packages (from sentence_transformers) (1.2.2)\n",
            "Requirement already satisfied: scipy in /usr/local/lib/python3.10/dist-packages (from sentence_transformers) (1.11.3)\n",
            "Requirement already satisfied: nltk in /usr/local/lib/python3.10/dist-packages (from sentence_transformers) (3.8.1)\n",
            "Requirement already satisfied: sentencepiece in /usr/local/lib/python3.10/dist-packages (from sentence_transformers) (0.1.99)\n",
            "Requirement already satisfied: huggingface-hub>=0.4.0 in /usr/local/lib/python3.10/dist-packages (from sentence_transformers) (0.17.3)\n",
            "Requirement already satisfied: filelock in /usr/local/lib/python3.10/dist-packages (from huggingface-hub>=0.4.0->sentence_transformers) (3.13.1)\n",
            "Requirement already satisfied: fsspec in /usr/local/lib/python3.10/dist-packages (from huggingface-hub>=0.4.0->sentence_transformers) (2023.6.0)\n",
            "Requirement already satisfied: requests in /usr/local/lib/python3.10/dist-packages (from huggingface-hub>=0.4.0->sentence_transformers) (2.31.0)\n",
            "Requirement already satisfied: pyyaml>=5.1 in /usr/local/lib/python3.10/dist-packages (from huggingface-hub>=0.4.0->sentence_transformers) (6.0.1)\n",
            "Requirement already satisfied: typing-extensions>=3.7.4.3 in /usr/local/lib/python3.10/dist-packages (from huggingface-hub>=0.4.0->sentence_transformers) (4.5.0)\n",
            "Requirement already satisfied: packaging>=20.9 in /usr/local/lib/python3.10/dist-packages (from huggingface-hub>=0.4.0->sentence_transformers) (23.2)\n",
            "Requirement already satisfied: sympy in /usr/local/lib/python3.10/dist-packages (from torch>=1.6.0->sentence_transformers) (1.12)\n",
            "Requirement already satisfied: networkx in /usr/local/lib/python3.10/dist-packages (from torch>=1.6.0->sentence_transformers) (3.2.1)\n",
            "Requirement already satisfied: jinja2 in /usr/local/lib/python3.10/dist-packages (from torch>=1.6.0->sentence_transformers) (3.1.2)\n",
            "Requirement already satisfied: triton==2.1.0 in /usr/local/lib/python3.10/dist-packages (from torch>=1.6.0->sentence_transformers) (2.1.0)\n",
            "Requirement already satisfied: regex!=2019.12.17 in /usr/local/lib/python3.10/dist-packages (from transformers<5.0.0,>=4.6.0->sentence_transformers) (2023.6.3)\n",
            "Requirement already satisfied: tokenizers<0.15,>=0.14 in /usr/local/lib/python3.10/dist-packages (from transformers<5.0.0,>=4.6.0->sentence_transformers) (0.14.1)\n",
            "Requirement already satisfied: safetensors>=0.3.1 in /usr/local/lib/python3.10/dist-packages (from transformers<5.0.0,>=4.6.0->sentence_transformers) (0.4.0)\n",
            "Requirement already satisfied: click in /usr/local/lib/python3.10/dist-packages (from nltk->sentence_transformers) (8.1.7)\n",
            "Requirement already satisfied: joblib in /usr/local/lib/python3.10/dist-packages (from nltk->sentence_transformers) (1.3.2)\n",
            "Requirement already satisfied: threadpoolctl>=2.0.0 in /usr/local/lib/python3.10/dist-packages (from scikit-learn->sentence_transformers) (3.2.0)\n",
            "Requirement already satisfied: pillow!=8.3.*,>=5.3.0 in /usr/local/lib/python3.10/dist-packages (from torchvision->sentence_transformers) (9.4.0)\n",
            "Requirement already satisfied: MarkupSafe>=2.0 in /usr/local/lib/python3.10/dist-packages (from jinja2->torch>=1.6.0->sentence_transformers) (2.1.3)\n",
            "Requirement already satisfied: charset-normalizer<4,>=2 in /usr/local/lib/python3.10/dist-packages (from requests->huggingface-hub>=0.4.0->sentence_transformers) (3.3.2)\n",
            "Requirement already satisfied: idna<4,>=2.5 in /usr/local/lib/python3.10/dist-packages (from requests->huggingface-hub>=0.4.0->sentence_transformers) (3.4)\n",
            "Requirement already satisfied: urllib3<3,>=1.21.1 in /usr/local/lib/python3.10/dist-packages (from requests->huggingface-hub>=0.4.0->sentence_transformers) (2.0.7)\n",
            "Requirement already satisfied: certifi>=2017.4.17 in /usr/local/lib/python3.10/dist-packages (from requests->huggingface-hub>=0.4.0->sentence_transformers) (2023.7.22)\n",
            "Requirement already satisfied: mpmath>=0.19 in /usr/local/lib/python3.10/dist-packages (from sympy->torch>=1.6.0->sentence_transformers) (1.3.0)\n"
          ]
        }
      ]
    },
    {
      "cell_type": "code",
      "execution_count": null,
      "metadata": {
        "id": "cNbBB2RN6D9F"
      },
      "outputs": [],
      "source": [
        "import os\n",
        "import numpy as np\n",
        "import pandas as pd\n",
        "import random\n",
        "import warnings\n",
        "from tabulate import tabulate\n",
        "\n",
        "import tensorflow as tf\n",
        "from tensorflow.keras.optimizers import Adam\n",
        "from tensorflow.keras.models import Model\n",
        "from tensorflow.keras.layers import Input, Embedding, Dense, Dot, Flatten, Concatenate, Add\n",
        "from sklearn.model_selection import train_test_split\n",
        "\n",
        "from sentence_transformers import SentenceTransformer\n",
        "\n",
        "import seaborn as sns\n",
        "import matplotlib.pyplot as plt"
      ]
    },
    {
      "cell_type": "code",
      "source": [
        "plt.rcParams.update({'pdf.fonttype': 'truetype'})\n",
        "warnings.simplefilter(\"ignore\")"
      ],
      "metadata": {
        "id": "ojFV83rD73yw"
      },
      "execution_count": null,
      "outputs": []
    },
    {
      "cell_type": "code",
      "source": [
        "def print_df(df, col_width = 10, rows = 10, max_cols = 10):\n",
        "    def short_srt(x):\n",
        "        return x if len(x) < col_width else x[:col_width-3] + \"...\"\n",
        "    df_short = df.head(rows).applymap(lambda x: short_srt(str(x)))\n",
        "\n",
        "    if len(df_short.columns) > max_cols:\n",
        "        df_short = df_short.iloc[:, 0:max_cols-1]\n",
        "        df_short['...'] = '...'\n",
        "\n",
        "    print(tabulate(df_short, headers='keys', tablefmt='psql'))\n",
        "    print(f'{len(df)} rows x {len(df.columns)} columns')\n",
        "\n",
        "def plot_keras_training_hitory(history):\n",
        "    plt.plot(history.history['loss']);\n",
        "    plt.plot(history.history['val_loss']);\n",
        "    plt.xlabel('Training epoch')\n",
        "    plt.ylabel('Loss')\n",
        "    plt.legend(['train', 'validation'], loc='upper left')\n",
        "    plt.grid(True)"
      ],
      "metadata": {
        "id": "QNE90NpM74ST"
      },
      "execution_count": null,
      "outputs": []
    },
    {
      "cell_type": "code",
      "source": [
        "from zipfile import ZipFile\n",
        "from urllib.request import urlretrieve"
      ],
      "metadata": {
        "id": "uuF7yKsi8KLV"
      },
      "execution_count": null,
      "outputs": []
    },
    {
      "cell_type": "code",
      "source": [
        "## extracting data\n",
        "urlretrieve(\"http://files.grouplens.org/datasets/movielens/ml-20m.zip\", \"movielens.zip\")\n",
        "ZipFile(\"movielens.zip\", \"r\").extractall()"
      ],
      "metadata": {
        "id": "Jk4Zu2G18wfC"
      },
      "execution_count": null,
      "outputs": []
    },
    {
      "cell_type": "code",
      "source": [
        "base_data_path = 'ml-20m'\n",
        "items = pd.read_csv(base_data_path + '/movies.csv', sep=',', skiprows=1,\n",
        "                     names=['item_id', 'title', 'genres'])\n",
        "ratings = pd.read_csv(base_data_path + '/ratings.csv', sep=',', skiprows=1,\n",
        "                      names=['user_id', 'item_id', 'rating', 'timestamp'])\n",
        "tags = pd.read_csv(base_data_path + '/tags.csv', sep=',', skiprows=1,\n",
        "                      names=['user_id', 'item_id', 'tag', 'timestamp'])"
      ],
      "metadata": {
        "id": "yCteWI8I8cdw"
      },
      "execution_count": null,
      "outputs": []
    },
    {
      "cell_type": "code",
      "source": [
        "tags"
      ],
      "metadata": {
        "colab": {
          "base_uri": "https://localhost:8080/",
          "height": 423
        },
        "id": "Q32R0ekC8s31",
        "outputId": "1fc15474-efab-4d0a-bfff-9c3a6d7fb42c"
      },
      "execution_count": null,
      "outputs": [
        {
          "output_type": "execute_result",
          "data": {
            "text/plain": [
              "        user_id  item_id            tag   timestamp\n",
              "0            18     4141    Mark Waters  1240597180\n",
              "1            65      208      dark hero  1368150078\n",
              "2            65      353      dark hero  1368150079\n",
              "3            65      521  noir thriller  1368149983\n",
              "4            65      592      dark hero  1368150078\n",
              "...         ...      ...            ...         ...\n",
              "465559   138446    55999        dragged  1358983772\n",
              "465560   138446    55999  Jason Bateman  1358983778\n",
              "465561   138446    55999         quirky  1358983778\n",
              "465562   138446    55999            sad  1358983772\n",
              "465563   138472      923  rise to power  1194037967\n",
              "\n",
              "[465564 rows x 4 columns]"
            ],
            "text/html": [
              "\n",
              "  <div id=\"df-924764bb-d125-4c9d-8b71-7ad7a8c711a9\" class=\"colab-df-container\">\n",
              "    <div>\n",
              "<style scoped>\n",
              "    .dataframe tbody tr th:only-of-type {\n",
              "        vertical-align: middle;\n",
              "    }\n",
              "\n",
              "    .dataframe tbody tr th {\n",
              "        vertical-align: top;\n",
              "    }\n",
              "\n",
              "    .dataframe thead th {\n",
              "        text-align: right;\n",
              "    }\n",
              "</style>\n",
              "<table border=\"1\" class=\"dataframe\">\n",
              "  <thead>\n",
              "    <tr style=\"text-align: right;\">\n",
              "      <th></th>\n",
              "      <th>user_id</th>\n",
              "      <th>item_id</th>\n",
              "      <th>tag</th>\n",
              "      <th>timestamp</th>\n",
              "    </tr>\n",
              "  </thead>\n",
              "  <tbody>\n",
              "    <tr>\n",
              "      <th>0</th>\n",
              "      <td>18</td>\n",
              "      <td>4141</td>\n",
              "      <td>Mark Waters</td>\n",
              "      <td>1240597180</td>\n",
              "    </tr>\n",
              "    <tr>\n",
              "      <th>1</th>\n",
              "      <td>65</td>\n",
              "      <td>208</td>\n",
              "      <td>dark hero</td>\n",
              "      <td>1368150078</td>\n",
              "    </tr>\n",
              "    <tr>\n",
              "      <th>2</th>\n",
              "      <td>65</td>\n",
              "      <td>353</td>\n",
              "      <td>dark hero</td>\n",
              "      <td>1368150079</td>\n",
              "    </tr>\n",
              "    <tr>\n",
              "      <th>3</th>\n",
              "      <td>65</td>\n",
              "      <td>521</td>\n",
              "      <td>noir thriller</td>\n",
              "      <td>1368149983</td>\n",
              "    </tr>\n",
              "    <tr>\n",
              "      <th>4</th>\n",
              "      <td>65</td>\n",
              "      <td>592</td>\n",
              "      <td>dark hero</td>\n",
              "      <td>1368150078</td>\n",
              "    </tr>\n",
              "    <tr>\n",
              "      <th>...</th>\n",
              "      <td>...</td>\n",
              "      <td>...</td>\n",
              "      <td>...</td>\n",
              "      <td>...</td>\n",
              "    </tr>\n",
              "    <tr>\n",
              "      <th>465559</th>\n",
              "      <td>138446</td>\n",
              "      <td>55999</td>\n",
              "      <td>dragged</td>\n",
              "      <td>1358983772</td>\n",
              "    </tr>\n",
              "    <tr>\n",
              "      <th>465560</th>\n",
              "      <td>138446</td>\n",
              "      <td>55999</td>\n",
              "      <td>Jason Bateman</td>\n",
              "      <td>1358983778</td>\n",
              "    </tr>\n",
              "    <tr>\n",
              "      <th>465561</th>\n",
              "      <td>138446</td>\n",
              "      <td>55999</td>\n",
              "      <td>quirky</td>\n",
              "      <td>1358983778</td>\n",
              "    </tr>\n",
              "    <tr>\n",
              "      <th>465562</th>\n",
              "      <td>138446</td>\n",
              "      <td>55999</td>\n",
              "      <td>sad</td>\n",
              "      <td>1358983772</td>\n",
              "    </tr>\n",
              "    <tr>\n",
              "      <th>465563</th>\n",
              "      <td>138472</td>\n",
              "      <td>923</td>\n",
              "      <td>rise to power</td>\n",
              "      <td>1194037967</td>\n",
              "    </tr>\n",
              "  </tbody>\n",
              "</table>\n",
              "<p>465564 rows × 4 columns</p>\n",
              "</div>\n",
              "    <div class=\"colab-df-buttons\">\n",
              "\n",
              "  <div class=\"colab-df-container\">\n",
              "    <button class=\"colab-df-convert\" onclick=\"convertToInteractive('df-924764bb-d125-4c9d-8b71-7ad7a8c711a9')\"\n",
              "            title=\"Convert this dataframe to an interactive table.\"\n",
              "            style=\"display:none;\">\n",
              "\n",
              "  <svg xmlns=\"http://www.w3.org/2000/svg\" height=\"24px\" viewBox=\"0 -960 960 960\">\n",
              "    <path d=\"M120-120v-720h720v720H120Zm60-500h600v-160H180v160Zm220 220h160v-160H400v160Zm0 220h160v-160H400v160ZM180-400h160v-160H180v160Zm440 0h160v-160H620v160ZM180-180h160v-160H180v160Zm440 0h160v-160H620v160Z\"/>\n",
              "  </svg>\n",
              "    </button>\n",
              "\n",
              "  <style>\n",
              "    .colab-df-container {\n",
              "      display:flex;\n",
              "      gap: 12px;\n",
              "    }\n",
              "\n",
              "    .colab-df-convert {\n",
              "      background-color: #E8F0FE;\n",
              "      border: none;\n",
              "      border-radius: 50%;\n",
              "      cursor: pointer;\n",
              "      display: none;\n",
              "      fill: #1967D2;\n",
              "      height: 32px;\n",
              "      padding: 0 0 0 0;\n",
              "      width: 32px;\n",
              "    }\n",
              "\n",
              "    .colab-df-convert:hover {\n",
              "      background-color: #E2EBFA;\n",
              "      box-shadow: 0px 1px 2px rgba(60, 64, 67, 0.3), 0px 1px 3px 1px rgba(60, 64, 67, 0.15);\n",
              "      fill: #174EA6;\n",
              "    }\n",
              "\n",
              "    .colab-df-buttons div {\n",
              "      margin-bottom: 4px;\n",
              "    }\n",
              "\n",
              "    [theme=dark] .colab-df-convert {\n",
              "      background-color: #3B4455;\n",
              "      fill: #D2E3FC;\n",
              "    }\n",
              "\n",
              "    [theme=dark] .colab-df-convert:hover {\n",
              "      background-color: #434B5C;\n",
              "      box-shadow: 0px 1px 3px 1px rgba(0, 0, 0, 0.15);\n",
              "      filter: drop-shadow(0px 1px 2px rgba(0, 0, 0, 0.3));\n",
              "      fill: #FFFFFF;\n",
              "    }\n",
              "  </style>\n",
              "\n",
              "    <script>\n",
              "      const buttonEl =\n",
              "        document.querySelector('#df-924764bb-d125-4c9d-8b71-7ad7a8c711a9 button.colab-df-convert');\n",
              "      buttonEl.style.display =\n",
              "        google.colab.kernel.accessAllowed ? 'block' : 'none';\n",
              "\n",
              "      async function convertToInteractive(key) {\n",
              "        const element = document.querySelector('#df-924764bb-d125-4c9d-8b71-7ad7a8c711a9');\n",
              "        const dataTable =\n",
              "          await google.colab.kernel.invokeFunction('convertToInteractive',\n",
              "                                                    [key], {});\n",
              "        if (!dataTable) return;\n",
              "\n",
              "        const docLinkHtml = 'Like what you see? Visit the ' +\n",
              "          '<a target=\"_blank\" href=https://colab.research.google.com/notebooks/data_table.ipynb>data table notebook</a>'\n",
              "          + ' to learn more about interactive tables.';\n",
              "        element.innerHTML = '';\n",
              "        dataTable['output_type'] = 'display_data';\n",
              "        await google.colab.output.renderOutput(dataTable, element);\n",
              "        const docLink = document.createElement('div');\n",
              "        docLink.innerHTML = docLinkHtml;\n",
              "        element.appendChild(docLink);\n",
              "      }\n",
              "    </script>\n",
              "  </div>\n",
              "\n",
              "\n",
              "<div id=\"df-f5b28528-6afd-4488-8069-cd6c8268c531\">\n",
              "  <button class=\"colab-df-quickchart\" onclick=\"quickchart('df-f5b28528-6afd-4488-8069-cd6c8268c531')\"\n",
              "            title=\"Suggest charts\"\n",
              "            style=\"display:none;\">\n",
              "\n",
              "<svg xmlns=\"http://www.w3.org/2000/svg\" height=\"24px\"viewBox=\"0 0 24 24\"\n",
              "     width=\"24px\">\n",
              "    <g>\n",
              "        <path d=\"M19 3H5c-1.1 0-2 .9-2 2v14c0 1.1.9 2 2 2h14c1.1 0 2-.9 2-2V5c0-1.1-.9-2-2-2zM9 17H7v-7h2v7zm4 0h-2V7h2v10zm4 0h-2v-4h2v4z\"/>\n",
              "    </g>\n",
              "</svg>\n",
              "  </button>\n",
              "\n",
              "<style>\n",
              "  .colab-df-quickchart {\n",
              "      --bg-color: #E8F0FE;\n",
              "      --fill-color: #1967D2;\n",
              "      --hover-bg-color: #E2EBFA;\n",
              "      --hover-fill-color: #174EA6;\n",
              "      --disabled-fill-color: #AAA;\n",
              "      --disabled-bg-color: #DDD;\n",
              "  }\n",
              "\n",
              "  [theme=dark] .colab-df-quickchart {\n",
              "      --bg-color: #3B4455;\n",
              "      --fill-color: #D2E3FC;\n",
              "      --hover-bg-color: #434B5C;\n",
              "      --hover-fill-color: #FFFFFF;\n",
              "      --disabled-bg-color: #3B4455;\n",
              "      --disabled-fill-color: #666;\n",
              "  }\n",
              "\n",
              "  .colab-df-quickchart {\n",
              "    background-color: var(--bg-color);\n",
              "    border: none;\n",
              "    border-radius: 50%;\n",
              "    cursor: pointer;\n",
              "    display: none;\n",
              "    fill: var(--fill-color);\n",
              "    height: 32px;\n",
              "    padding: 0;\n",
              "    width: 32px;\n",
              "  }\n",
              "\n",
              "  .colab-df-quickchart:hover {\n",
              "    background-color: var(--hover-bg-color);\n",
              "    box-shadow: 0 1px 2px rgba(60, 64, 67, 0.3), 0 1px 3px 1px rgba(60, 64, 67, 0.15);\n",
              "    fill: var(--button-hover-fill-color);\n",
              "  }\n",
              "\n",
              "  .colab-df-quickchart-complete:disabled,\n",
              "  .colab-df-quickchart-complete:disabled:hover {\n",
              "    background-color: var(--disabled-bg-color);\n",
              "    fill: var(--disabled-fill-color);\n",
              "    box-shadow: none;\n",
              "  }\n",
              "\n",
              "  .colab-df-spinner {\n",
              "    border: 2px solid var(--fill-color);\n",
              "    border-color: transparent;\n",
              "    border-bottom-color: var(--fill-color);\n",
              "    animation:\n",
              "      spin 1s steps(1) infinite;\n",
              "  }\n",
              "\n",
              "  @keyframes spin {\n",
              "    0% {\n",
              "      border-color: transparent;\n",
              "      border-bottom-color: var(--fill-color);\n",
              "      border-left-color: var(--fill-color);\n",
              "    }\n",
              "    20% {\n",
              "      border-color: transparent;\n",
              "      border-left-color: var(--fill-color);\n",
              "      border-top-color: var(--fill-color);\n",
              "    }\n",
              "    30% {\n",
              "      border-color: transparent;\n",
              "      border-left-color: var(--fill-color);\n",
              "      border-top-color: var(--fill-color);\n",
              "      border-right-color: var(--fill-color);\n",
              "    }\n",
              "    40% {\n",
              "      border-color: transparent;\n",
              "      border-right-color: var(--fill-color);\n",
              "      border-top-color: var(--fill-color);\n",
              "    }\n",
              "    60% {\n",
              "      border-color: transparent;\n",
              "      border-right-color: var(--fill-color);\n",
              "    }\n",
              "    80% {\n",
              "      border-color: transparent;\n",
              "      border-right-color: var(--fill-color);\n",
              "      border-bottom-color: var(--fill-color);\n",
              "    }\n",
              "    90% {\n",
              "      border-color: transparent;\n",
              "      border-bottom-color: var(--fill-color);\n",
              "    }\n",
              "  }\n",
              "</style>\n",
              "\n",
              "  <script>\n",
              "    async function quickchart(key) {\n",
              "      const quickchartButtonEl =\n",
              "        document.querySelector('#' + key + ' button');\n",
              "      quickchartButtonEl.disabled = true;  // To prevent multiple clicks.\n",
              "      quickchartButtonEl.classList.add('colab-df-spinner');\n",
              "      try {\n",
              "        const charts = await google.colab.kernel.invokeFunction(\n",
              "            'suggestCharts', [key], {});\n",
              "      } catch (error) {\n",
              "        console.error('Error during call to suggestCharts:', error);\n",
              "      }\n",
              "      quickchartButtonEl.classList.remove('colab-df-spinner');\n",
              "      quickchartButtonEl.classList.add('colab-df-quickchart-complete');\n",
              "    }\n",
              "    (() => {\n",
              "      let quickchartButtonEl =\n",
              "        document.querySelector('#df-f5b28528-6afd-4488-8069-cd6c8268c531 button');\n",
              "      quickchartButtonEl.style.display =\n",
              "        google.colab.kernel.accessAllowed ? 'block' : 'none';\n",
              "    })();\n",
              "  </script>\n",
              "</div>\n",
              "    </div>\n",
              "  </div>\n"
            ]
          },
          "metadata": {},
          "execution_count": 10
        }
      ]
    },
    {
      "cell_type": "code",
      "source": [
        "tags_flat = tags[['item_id', 'tag']]\\\n",
        "    .groupby(by=['item_id'])['tag']\\\n",
        "    .apply(list)\\\n",
        "    .apply(lambda x: ' '.join(list(map(str, x))))\\\n",
        "    .apply(str.lower)\n",
        "items = items.join(tags_flat, on='item_id')"
      ],
      "metadata": {
        "id": "FTmDN1_39Hcr"
      },
      "execution_count": null,
      "outputs": []
    },
    {
      "cell_type": "code",
      "source": [
        "tags_flat"
      ],
      "metadata": {
        "colab": {
          "base_uri": "https://localhost:8080/"
        },
        "id": "GMdmE9z88m-d",
        "outputId": "0aa06760-a166-4ca0-fceb-6d7656377702"
      },
      "execution_count": null,
      "outputs": [
        {
          "output_type": "execute_result",
          "data": {
            "text/plain": [
              "item_id\n",
              "1         watched computer animation disney animated fea...\n",
              "2         time travel adapted from:book board game child...\n",
              "3         old people that is actually funny sequel fever...\n",
              "4         chick flick revenge characters chick flick cha...\n",
              "5         diane keaton family sequel steve martin weddin...\n",
              "                                ...                        \n",
              "131054                                            dinosaurs\n",
              "131082                           documentary yoshitomo nara\n",
              "131164                                          vietnam war\n",
              "131170                                    alternate reality\n",
              "131258                   bandits korea mutiny pirates whale\n",
              "Name: tag, Length: 19545, dtype: object"
            ]
          },
          "metadata": {},
          "execution_count": 12
        }
      ]
    },
    {
      "cell_type": "code",
      "source": [
        "items"
      ],
      "metadata": {
        "colab": {
          "base_uri": "https://localhost:8080/",
          "height": 423
        },
        "id": "jFU_qu9N8oj7",
        "outputId": "c511117c-3ede-481e-8670-5adaa89e68ed"
      },
      "execution_count": null,
      "outputs": [
        {
          "output_type": "execute_result",
          "data": {
            "text/plain": [
              "       item_id                               title  \\\n",
              "0            1                    Toy Story (1995)   \n",
              "1            2                      Jumanji (1995)   \n",
              "2            3             Grumpier Old Men (1995)   \n",
              "3            4            Waiting to Exhale (1995)   \n",
              "4            5  Father of the Bride Part II (1995)   \n",
              "...        ...                                 ...   \n",
              "27273   131254        Kein Bund für's Leben (2007)   \n",
              "27274   131256       Feuer, Eis & Dosenbier (2002)   \n",
              "27275   131258                  The Pirates (2014)   \n",
              "27276   131260                 Rentun Ruusu (2001)   \n",
              "27277   131262                    Innocence (2014)   \n",
              "\n",
              "                                            genres  \\\n",
              "0      Adventure|Animation|Children|Comedy|Fantasy   \n",
              "1                       Adventure|Children|Fantasy   \n",
              "2                                   Comedy|Romance   \n",
              "3                             Comedy|Drama|Romance   \n",
              "4                                           Comedy   \n",
              "...                                            ...   \n",
              "27273                                       Comedy   \n",
              "27274                                       Comedy   \n",
              "27275                                    Adventure   \n",
              "27276                           (no genres listed)   \n",
              "27277                     Adventure|Fantasy|Horror   \n",
              "\n",
              "                                                     tag  \n",
              "0      watched computer animation disney animated fea...  \n",
              "1      time travel adapted from:book board game child...  \n",
              "2      old people that is actually funny sequel fever...  \n",
              "3      chick flick revenge characters chick flick cha...  \n",
              "4      diane keaton family sequel steve martin weddin...  \n",
              "...                                                  ...  \n",
              "27273                                                NaN  \n",
              "27274                                                NaN  \n",
              "27275                 bandits korea mutiny pirates whale  \n",
              "27276                                                NaN  \n",
              "27277                                                NaN  \n",
              "\n",
              "[27278 rows x 4 columns]"
            ],
            "text/html": [
              "\n",
              "  <div id=\"df-13bf6cb6-b15d-4317-bea8-8a14d2360137\" class=\"colab-df-container\">\n",
              "    <div>\n",
              "<style scoped>\n",
              "    .dataframe tbody tr th:only-of-type {\n",
              "        vertical-align: middle;\n",
              "    }\n",
              "\n",
              "    .dataframe tbody tr th {\n",
              "        vertical-align: top;\n",
              "    }\n",
              "\n",
              "    .dataframe thead th {\n",
              "        text-align: right;\n",
              "    }\n",
              "</style>\n",
              "<table border=\"1\" class=\"dataframe\">\n",
              "  <thead>\n",
              "    <tr style=\"text-align: right;\">\n",
              "      <th></th>\n",
              "      <th>item_id</th>\n",
              "      <th>title</th>\n",
              "      <th>genres</th>\n",
              "      <th>tag</th>\n",
              "    </tr>\n",
              "  </thead>\n",
              "  <tbody>\n",
              "    <tr>\n",
              "      <th>0</th>\n",
              "      <td>1</td>\n",
              "      <td>Toy Story (1995)</td>\n",
              "      <td>Adventure|Animation|Children|Comedy|Fantasy</td>\n",
              "      <td>watched computer animation disney animated fea...</td>\n",
              "    </tr>\n",
              "    <tr>\n",
              "      <th>1</th>\n",
              "      <td>2</td>\n",
              "      <td>Jumanji (1995)</td>\n",
              "      <td>Adventure|Children|Fantasy</td>\n",
              "      <td>time travel adapted from:book board game child...</td>\n",
              "    </tr>\n",
              "    <tr>\n",
              "      <th>2</th>\n",
              "      <td>3</td>\n",
              "      <td>Grumpier Old Men (1995)</td>\n",
              "      <td>Comedy|Romance</td>\n",
              "      <td>old people that is actually funny sequel fever...</td>\n",
              "    </tr>\n",
              "    <tr>\n",
              "      <th>3</th>\n",
              "      <td>4</td>\n",
              "      <td>Waiting to Exhale (1995)</td>\n",
              "      <td>Comedy|Drama|Romance</td>\n",
              "      <td>chick flick revenge characters chick flick cha...</td>\n",
              "    </tr>\n",
              "    <tr>\n",
              "      <th>4</th>\n",
              "      <td>5</td>\n",
              "      <td>Father of the Bride Part II (1995)</td>\n",
              "      <td>Comedy</td>\n",
              "      <td>diane keaton family sequel steve martin weddin...</td>\n",
              "    </tr>\n",
              "    <tr>\n",
              "      <th>...</th>\n",
              "      <td>...</td>\n",
              "      <td>...</td>\n",
              "      <td>...</td>\n",
              "      <td>...</td>\n",
              "    </tr>\n",
              "    <tr>\n",
              "      <th>27273</th>\n",
              "      <td>131254</td>\n",
              "      <td>Kein Bund für's Leben (2007)</td>\n",
              "      <td>Comedy</td>\n",
              "      <td>NaN</td>\n",
              "    </tr>\n",
              "    <tr>\n",
              "      <th>27274</th>\n",
              "      <td>131256</td>\n",
              "      <td>Feuer, Eis &amp; Dosenbier (2002)</td>\n",
              "      <td>Comedy</td>\n",
              "      <td>NaN</td>\n",
              "    </tr>\n",
              "    <tr>\n",
              "      <th>27275</th>\n",
              "      <td>131258</td>\n",
              "      <td>The Pirates (2014)</td>\n",
              "      <td>Adventure</td>\n",
              "      <td>bandits korea mutiny pirates whale</td>\n",
              "    </tr>\n",
              "    <tr>\n",
              "      <th>27276</th>\n",
              "      <td>131260</td>\n",
              "      <td>Rentun Ruusu (2001)</td>\n",
              "      <td>(no genres listed)</td>\n",
              "      <td>NaN</td>\n",
              "    </tr>\n",
              "    <tr>\n",
              "      <th>27277</th>\n",
              "      <td>131262</td>\n",
              "      <td>Innocence (2014)</td>\n",
              "      <td>Adventure|Fantasy|Horror</td>\n",
              "      <td>NaN</td>\n",
              "    </tr>\n",
              "  </tbody>\n",
              "</table>\n",
              "<p>27278 rows × 4 columns</p>\n",
              "</div>\n",
              "    <div class=\"colab-df-buttons\">\n",
              "\n",
              "  <div class=\"colab-df-container\">\n",
              "    <button class=\"colab-df-convert\" onclick=\"convertToInteractive('df-13bf6cb6-b15d-4317-bea8-8a14d2360137')\"\n",
              "            title=\"Convert this dataframe to an interactive table.\"\n",
              "            style=\"display:none;\">\n",
              "\n",
              "  <svg xmlns=\"http://www.w3.org/2000/svg\" height=\"24px\" viewBox=\"0 -960 960 960\">\n",
              "    <path d=\"M120-120v-720h720v720H120Zm60-500h600v-160H180v160Zm220 220h160v-160H400v160Zm0 220h160v-160H400v160ZM180-400h160v-160H180v160Zm440 0h160v-160H620v160ZM180-180h160v-160H180v160Zm440 0h160v-160H620v160Z\"/>\n",
              "  </svg>\n",
              "    </button>\n",
              "\n",
              "  <style>\n",
              "    .colab-df-container {\n",
              "      display:flex;\n",
              "      gap: 12px;\n",
              "    }\n",
              "\n",
              "    .colab-df-convert {\n",
              "      background-color: #E8F0FE;\n",
              "      border: none;\n",
              "      border-radius: 50%;\n",
              "      cursor: pointer;\n",
              "      display: none;\n",
              "      fill: #1967D2;\n",
              "      height: 32px;\n",
              "      padding: 0 0 0 0;\n",
              "      width: 32px;\n",
              "    }\n",
              "\n",
              "    .colab-df-convert:hover {\n",
              "      background-color: #E2EBFA;\n",
              "      box-shadow: 0px 1px 2px rgba(60, 64, 67, 0.3), 0px 1px 3px 1px rgba(60, 64, 67, 0.15);\n",
              "      fill: #174EA6;\n",
              "    }\n",
              "\n",
              "    .colab-df-buttons div {\n",
              "      margin-bottom: 4px;\n",
              "    }\n",
              "\n",
              "    [theme=dark] .colab-df-convert {\n",
              "      background-color: #3B4455;\n",
              "      fill: #D2E3FC;\n",
              "    }\n",
              "\n",
              "    [theme=dark] .colab-df-convert:hover {\n",
              "      background-color: #434B5C;\n",
              "      box-shadow: 0px 1px 3px 1px rgba(0, 0, 0, 0.15);\n",
              "      filter: drop-shadow(0px 1px 2px rgba(0, 0, 0, 0.3));\n",
              "      fill: #FFFFFF;\n",
              "    }\n",
              "  </style>\n",
              "\n",
              "    <script>\n",
              "      const buttonEl =\n",
              "        document.querySelector('#df-13bf6cb6-b15d-4317-bea8-8a14d2360137 button.colab-df-convert');\n",
              "      buttonEl.style.display =\n",
              "        google.colab.kernel.accessAllowed ? 'block' : 'none';\n",
              "\n",
              "      async function convertToInteractive(key) {\n",
              "        const element = document.querySelector('#df-13bf6cb6-b15d-4317-bea8-8a14d2360137');\n",
              "        const dataTable =\n",
              "          await google.colab.kernel.invokeFunction('convertToInteractive',\n",
              "                                                    [key], {});\n",
              "        if (!dataTable) return;\n",
              "\n",
              "        const docLinkHtml = 'Like what you see? Visit the ' +\n",
              "          '<a target=\"_blank\" href=https://colab.research.google.com/notebooks/data_table.ipynb>data table notebook</a>'\n",
              "          + ' to learn more about interactive tables.';\n",
              "        element.innerHTML = '';\n",
              "        dataTable['output_type'] = 'display_data';\n",
              "        await google.colab.output.renderOutput(dataTable, element);\n",
              "        const docLink = document.createElement('div');\n",
              "        docLink.innerHTML = docLinkHtml;\n",
              "        element.appendChild(docLink);\n",
              "      }\n",
              "    </script>\n",
              "  </div>\n",
              "\n",
              "\n",
              "<div id=\"df-f310de93-a48f-4ccf-8a06-91b8686508c3\">\n",
              "  <button class=\"colab-df-quickchart\" onclick=\"quickchart('df-f310de93-a48f-4ccf-8a06-91b8686508c3')\"\n",
              "            title=\"Suggest charts\"\n",
              "            style=\"display:none;\">\n",
              "\n",
              "<svg xmlns=\"http://www.w3.org/2000/svg\" height=\"24px\"viewBox=\"0 0 24 24\"\n",
              "     width=\"24px\">\n",
              "    <g>\n",
              "        <path d=\"M19 3H5c-1.1 0-2 .9-2 2v14c0 1.1.9 2 2 2h14c1.1 0 2-.9 2-2V5c0-1.1-.9-2-2-2zM9 17H7v-7h2v7zm4 0h-2V7h2v10zm4 0h-2v-4h2v4z\"/>\n",
              "    </g>\n",
              "</svg>\n",
              "  </button>\n",
              "\n",
              "<style>\n",
              "  .colab-df-quickchart {\n",
              "      --bg-color: #E8F0FE;\n",
              "      --fill-color: #1967D2;\n",
              "      --hover-bg-color: #E2EBFA;\n",
              "      --hover-fill-color: #174EA6;\n",
              "      --disabled-fill-color: #AAA;\n",
              "      --disabled-bg-color: #DDD;\n",
              "  }\n",
              "\n",
              "  [theme=dark] .colab-df-quickchart {\n",
              "      --bg-color: #3B4455;\n",
              "      --fill-color: #D2E3FC;\n",
              "      --hover-bg-color: #434B5C;\n",
              "      --hover-fill-color: #FFFFFF;\n",
              "      --disabled-bg-color: #3B4455;\n",
              "      --disabled-fill-color: #666;\n",
              "  }\n",
              "\n",
              "  .colab-df-quickchart {\n",
              "    background-color: var(--bg-color);\n",
              "    border: none;\n",
              "    border-radius: 50%;\n",
              "    cursor: pointer;\n",
              "    display: none;\n",
              "    fill: var(--fill-color);\n",
              "    height: 32px;\n",
              "    padding: 0;\n",
              "    width: 32px;\n",
              "  }\n",
              "\n",
              "  .colab-df-quickchart:hover {\n",
              "    background-color: var(--hover-bg-color);\n",
              "    box-shadow: 0 1px 2px rgba(60, 64, 67, 0.3), 0 1px 3px 1px rgba(60, 64, 67, 0.15);\n",
              "    fill: var(--button-hover-fill-color);\n",
              "  }\n",
              "\n",
              "  .colab-df-quickchart-complete:disabled,\n",
              "  .colab-df-quickchart-complete:disabled:hover {\n",
              "    background-color: var(--disabled-bg-color);\n",
              "    fill: var(--disabled-fill-color);\n",
              "    box-shadow: none;\n",
              "  }\n",
              "\n",
              "  .colab-df-spinner {\n",
              "    border: 2px solid var(--fill-color);\n",
              "    border-color: transparent;\n",
              "    border-bottom-color: var(--fill-color);\n",
              "    animation:\n",
              "      spin 1s steps(1) infinite;\n",
              "  }\n",
              "\n",
              "  @keyframes spin {\n",
              "    0% {\n",
              "      border-color: transparent;\n",
              "      border-bottom-color: var(--fill-color);\n",
              "      border-left-color: var(--fill-color);\n",
              "    }\n",
              "    20% {\n",
              "      border-color: transparent;\n",
              "      border-left-color: var(--fill-color);\n",
              "      border-top-color: var(--fill-color);\n",
              "    }\n",
              "    30% {\n",
              "      border-color: transparent;\n",
              "      border-left-color: var(--fill-color);\n",
              "      border-top-color: var(--fill-color);\n",
              "      border-right-color: var(--fill-color);\n",
              "    }\n",
              "    40% {\n",
              "      border-color: transparent;\n",
              "      border-right-color: var(--fill-color);\n",
              "      border-top-color: var(--fill-color);\n",
              "    }\n",
              "    60% {\n",
              "      border-color: transparent;\n",
              "      border-right-color: var(--fill-color);\n",
              "    }\n",
              "    80% {\n",
              "      border-color: transparent;\n",
              "      border-right-color: var(--fill-color);\n",
              "      border-bottom-color: var(--fill-color);\n",
              "    }\n",
              "    90% {\n",
              "      border-color: transparent;\n",
              "      border-bottom-color: var(--fill-color);\n",
              "    }\n",
              "  }\n",
              "</style>\n",
              "\n",
              "  <script>\n",
              "    async function quickchart(key) {\n",
              "      const quickchartButtonEl =\n",
              "        document.querySelector('#' + key + ' button');\n",
              "      quickchartButtonEl.disabled = true;  // To prevent multiple clicks.\n",
              "      quickchartButtonEl.classList.add('colab-df-spinner');\n",
              "      try {\n",
              "        const charts = await google.colab.kernel.invokeFunction(\n",
              "            'suggestCharts', [key], {});\n",
              "      } catch (error) {\n",
              "        console.error('Error during call to suggestCharts:', error);\n",
              "      }\n",
              "      quickchartButtonEl.classList.remove('colab-df-spinner');\n",
              "      quickchartButtonEl.classList.add('colab-df-quickchart-complete');\n",
              "    }\n",
              "    (() => {\n",
              "      let quickchartButtonEl =\n",
              "        document.querySelector('#df-f310de93-a48f-4ccf-8a06-91b8686508c3 button');\n",
              "      quickchartButtonEl.style.display =\n",
              "        google.colab.kernel.accessAllowed ? 'block' : 'none';\n",
              "    })();\n",
              "  </script>\n",
              "</div>\n",
              "    </div>\n",
              "  </div>\n"
            ]
          },
          "metadata": {},
          "execution_count": 13
        }
      ]
    },
    {
      "cell_type": "code",
      "source": [
        "# Remove movies with short tag lines\n",
        "items = items[items['tag'].str.len() > 200]\n",
        "ratings = ratings[ratings['item_id'].isin(items['item_id'].unique())]"
      ],
      "metadata": {
        "id": "Hvlfs9gG8pmR"
      },
      "execution_count": null,
      "outputs": []
    },
    {
      "cell_type": "code",
      "source": [
        "# Remove users with less than 50 ratings\n",
        "ratings = ratings[ratings.groupby(by='user_id')['user_id'].transform('size') > 50]\n",
        "ratings['rating'] = ratings['rating'].round(0).astype(int)"
      ],
      "metadata": {
        "id": "ohBV3vMP81m1"
      },
      "execution_count": null,
      "outputs": []
    },
    {
      "cell_type": "code",
      "source": [
        "# Remap user and item IDs to sequental integers\n",
        "n_users, n_items = ratings['user_id'].nunique(), ratings['item_id'].nunique()\n",
        "item_id_lookup = { old_id:new_id for (old_id, new_id) in zip(items['item_id'].values, np.arange(n_items)) }\n",
        "items['item_id'] = items['item_id'].apply(lambda x: item_id_lookup[x])\n",
        "ratings['item_id'] = ratings['item_id'].apply(lambda x: item_id_lookup[x])"
      ],
      "metadata": {
        "id": "Aaut1oBw84lg"
      },
      "execution_count": null,
      "outputs": []
    },
    {
      "cell_type": "code",
      "source": [
        "user_id_lookup = { old_id:new_id for (old_id, new_id) in zip(ratings['user_id'].unique(), np.arange(n_users)) }\n",
        "ratings['user_id'] = ratings['user_id'].apply(lambda x: user_id_lookup[x])"
      ],
      "metadata": {
        "id": "vrrJ4OZs88CI"
      },
      "execution_count": null,
      "outputs": []
    },
    {
      "cell_type": "code",
      "source": [
        "print_df(items, col_width = 30)\n",
        "print_df(ratings)"
      ],
      "metadata": {
        "colab": {
          "base_uri": "https://localhost:8080/"
        },
        "id": "G_F5sfj-9DGW",
        "outputId": "1a73e399-3204-48ac-d060-243358027d61"
      },
      "execution_count": null,
      "outputs": [
        {
          "output_type": "stream",
          "name": "stdout",
          "text": [
            "+----+-----------+--------------------------------+--------------------------------+--------------------------------+\n",
            "|    |   item_id | title                          | genres                         | tag                            |\n",
            "|----+-----------+--------------------------------+--------------------------------+--------------------------------|\n",
            "|  0 |         0 | Toy Story (1995)               | Adventure|Animation|Childre... | watched computer animation ... |\n",
            "|  1 |         1 | Jumanji (1995)                 | Adventure|Children|Fantasy     | time travel adapted from:bo... |\n",
            "|  2 |         2 | Grumpier Old Men (1995)        | Comedy|Romance                 | old people that is actually... |\n",
            "|  4 |         3 | Father of the Bride Part II... | Comedy                         | diane keaton family sequel ... |\n",
            "|  5 |         4 | Heat (1995)                    | Action|Crime|Thriller          | realistic action al pacino ... |\n",
            "|  6 |         5 | Sabrina (1995)                 | Comedy|Romance                 | greg kinnear romance remade... |\n",
            "|  9 |         6 | GoldenEye (1995)               | Action|Adventure|Thriller      | 007 (series) assassin kille... |\n",
            "| 10 |         7 | American President, The (19... | Comedy|Drama|Romance           | president president us pres... |\n",
            "| 13 |         8 | Nixon (1995)                   | Drama                          | biopic character based on r... |\n",
            "| 14 |         9 | Cutthroat Island (1995)        | Action|Adventure|Romance       | pirates treasure action adv... |\n",
            "+----+-----------+--------------------------------+--------------------------------+--------------------------------+\n",
            "4744 rows x 4 columns\n",
            "+----+-----------+-----------+----------+-------------+\n",
            "|    |   user_id |   item_id |   rating | timestamp   |\n",
            "|----+-----------+-----------+----------+-------------|\n",
            "|  0 |         0 |         1 |        4 | 1112486...  |\n",
            "|  1 |         0 |        21 |        4 | 1112484...  |\n",
            "|  2 |         0 |        23 |        4 | 1112484...  |\n",
            "|  3 |         0 |        31 |        4 | 1112484...  |\n",
            "|  4 |         0 |        33 |        4 | 1112484...  |\n",
            "|  5 |         0 |        52 |        4 | 1094785...  |\n",
            "|  6 |         0 |        62 |        4 | 1094785...  |\n",
            "|  7 |         0 |        95 |        4 | 1112485...  |\n",
            "|  8 |         0 |       108 |        4 | 1112484...  |\n",
            "|  9 |         0 |       110 |        4 | 1112484...  |\n",
            "+----+-----------+-----------+----------+-------------+\n",
            "15324463 rows x 4 columns\n"
          ]
        }
      ]
    },
    {
      "cell_type": "code",
      "source": [
        "user_ids, item_ids = ratings['user_id'].unique(), ratings['item_id'].unique()\n",
        "max_user_id, max_item_id = max(ratings['user_id']), max(ratings['item_id'])\n",
        "print(f'Max user id: {max_user_id}, max item id: {max_item_id}')"
      ],
      "metadata": {
        "colab": {
          "base_uri": "https://localhost:8080/"
        },
        "id": "INagjT7O9HAl",
        "outputId": "e665a3f0-efa4-4968-8666-a4233a2900d2"
      },
      "execution_count": null,
      "outputs": [
        {
          "output_type": "stream",
          "name": "stdout",
          "text": [
            "Max user id: 78407, max item id: 4743\n"
          ]
        }
      ]
    },
    {
      "cell_type": "code",
      "source": [
        "n = ratings.shape[0]\n",
        "train_idx, test_idx, _, _ = train_test_split(np.arange(n), np.arange(n), test_size=0.20, random_state=42)"
      ],
      "metadata": {
        "id": "7-ZVQyfI9jJH"
      },
      "execution_count": null,
      "outputs": []
    },
    {
      "cell_type": "markdown",
      "source": [
        "Model 1: Neural Collaborative Filtering (Factorization Network)\n",
        "\n",
        "In this section, we train and evaluate a basic network that replicates the standard matrix factorization algorithm."
      ],
      "metadata": {
        "id": "NtesSyHa9uFL"
      }
    },
    {
      "cell_type": "code",
      "source": [
        "x_train, x_test = ratings[['user_id', 'item_id']].values[train_idx], ratings[['user_id', 'item_id']].values[test_idx]\n",
        "y_train, y_test = ratings['rating'].values[train_idx], ratings['rating'].values[test_idx]"
      ],
      "metadata": {
        "id": "GsuJUpaD9n8V"
      },
      "execution_count": null,
      "outputs": []
    },
    {
      "cell_type": "code",
      "source": [
        "embedding_dim = 8"
      ],
      "metadata": {
        "id": "zTTSPhuq9x9S"
      },
      "execution_count": null,
      "outputs": []
    },
    {
      "cell_type": "code",
      "source": [
        "\n",
        "input_user = Input(shape=(1,))\n",
        "input_item = Input(shape=(1,))"
      ],
      "metadata": {
        "id": "1ZJncJxD93Jg"
      },
      "execution_count": null,
      "outputs": []
    },
    {
      "cell_type": "code",
      "source": [
        "embedding_user = Embedding(input_dim=max_user_id + 1, output_dim=embedding_dim)(input_user)\n",
        "embedding_item = Embedding(input_dim=max_item_id + 1, output_dim=embedding_dim)(input_item)"
      ],
      "metadata": {
        "id": "EkoQB4iA95JK"
      },
      "execution_count": null,
      "outputs": []
    },
    {
      "cell_type": "code",
      "source": [
        "combined = Dot(axes=2)([embedding_user, embedding_item])"
      ],
      "metadata": {
        "id": "K54Qj8yv97ib"
      },
      "execution_count": null,
      "outputs": []
    },
    {
      "cell_type": "code",
      "source": [
        "score = Dense(1, activation='linear')(combined)"
      ],
      "metadata": {
        "id": "fIxLjiu_9_iZ"
      },
      "execution_count": null,
      "outputs": []
    },
    {
      "cell_type": "code",
      "source": [
        "model_sgd = Model(inputs=[input_user, input_item], outputs=score)"
      ],
      "metadata": {
        "id": "YohWG30a-Arq"
      },
      "execution_count": null,
      "outputs": []
    },
    {
      "cell_type": "code",
      "source": [
        "# Model training\n",
        "opt = tf.keras.optimizers.Adam(learning_rate=0.01)\n",
        "model_sgd.compile(optimizer=opt, loss='mse', metrics=[tf.keras.metrics.RootMeanSquaredError()])\n",
        "history_sgd = model_sgd.fit([x_train[:, 0], x_train[:, 1]], y_train,\n",
        "                    batch_size=256, epochs=3, verbose=1,\n",
        "                    validation_data=([x_test[:, 0], x_test[:, 1]], y_test))\n",
        "\n",
        "plot_keras_training_hitory(history_sgd)"
      ],
      "metadata": {
        "colab": {
          "base_uri": "https://localhost:8080/",
          "height": 553
        },
        "id": "e2ASeMO0-BpV",
        "outputId": "3e0c8c25-24f2-45aa-c626-9fc7a9c68a4c"
      },
      "execution_count": null,
      "outputs": [
        {
          "output_type": "stream",
          "name": "stdout",
          "text": [
            "Epoch 1/3\n",
            "47889/47889 [==============================] - 531s 11ms/step - loss: 1.1053 - root_mean_squared_error: 1.0513 - val_loss: 1.0690 - val_root_mean_squared_error: 1.0339\n",
            "Epoch 2/3\n",
            "47889/47889 [==============================] - 507s 11ms/step - loss: 1.0666 - root_mean_squared_error: 1.0328 - val_loss: 1.0690 - val_root_mean_squared_error: 1.0339\n",
            "Epoch 3/3\n",
            "47889/47889 [==============================] - 519s 11ms/step - loss: 1.0666 - root_mean_squared_error: 1.0328 - val_loss: 1.0693 - val_root_mean_squared_error: 1.0341\n"
          ]
        },
        {
          "output_type": "display_data",
          "data": {
            "text/plain": [
              "<Figure size 640x480 with 1 Axes>"
            ],
            "image/png": "[encoded data removed]"
          },
          "metadata": {}
        }
      ]
    },
    {
      "cell_type": "code",
      "source": [
        "y_test_hat = model_sgd.predict([x_test[:, 0], x_test[:, 1]])[:, 0, 0]\n",
        "plot_data = pd.DataFrame(np.vstack([y_test, y_test_hat]).T, columns=['Rating', 'Predicted rating'])\n",
        "fig, ax = plt.subplots(1, figsize=(10, 6))\n",
        "sns.violinplot(data=plot_data, x = \"Rating\", y = \"Predicted rating\", ax=ax)\n",
        "plt.grid(True)"
      ],
      "metadata": {
        "id": "DKq9IuYX-F18"
      },
      "execution_count": null,
      "outputs": []
    },
    {
      "cell_type": "code",
      "source": [
        "def get_items(user_id):\n",
        "    u_items = ratings[ratings['user_id'] == user_id].merge(items, on='item_id', how='left')\n",
        "    return u_items[['title', 'rating']].sort_values(by=['rating'], ascending=False)"
      ],
      "metadata": {
        "id": "CuZ-mA2D-smp"
      },
      "execution_count": null,
      "outputs": []
    },
    {
      "cell_type": "code",
      "source": [
        "def recommend_for_user(model, user_id, k):\n",
        "    x1, x2 = np.repeat(user_id, n_items), item_ids\n",
        "    ratings = model.predict([x1, x2]).ravel()\n",
        "    top_k_indexes = ratings.argsort()[-k:][::-1]\n",
        "    return x2[top_k_indexes], ratings[top_k_indexes]"
      ],
      "metadata": {
        "id": "QxhYMfPW-uMM"
      },
      "execution_count": null,
      "outputs": []
    },
    {
      "cell_type": "code",
      "source": [
        "def show_recommendations(r_items, r_ratings):\n",
        "    r = pd.DataFrame(data=np.vstack([r_items, r_ratings]).T, columns=['item_id', 'rating'])\n",
        "    print_df(r.merge(items, on='item_id', how='left')[['title', 'rating']], col_width = 50)"
      ],
      "metadata": {
        "id": "MdkxGbib-v5c"
      },
      "execution_count": null,
      "outputs": []
    },
    {
      "cell_type": "code",
      "source": [
        "user_id = 0\n",
        "k_recomendations = 10\n",
        "print_df(get_items(user_id), col_width = 50, rows = 10)\n",
        "r_items, r_ratings = recommend_for_user(model_sgd, user_id, k_recomendations)\n",
        "show_recommendations(r_items, r_ratings)"
      ],
      "metadata": {
        "colab": {
          "base_uri": "https://localhost:8080/"
        },
        "id": "ig-6uh2s-xN8",
        "outputId": "1993d613-a856-42b0-8a55-95b436096a8d"
      },
      "execution_count": null,
      "outputs": [
        {
          "output_type": "stream",
          "name": "stdout",
          "text": [
            "+-----+----------------------------------------------------+----------+\n",
            "|     | title                                              |   rating |\n",
            "|-----+----------------------------------------------------+----------|\n",
            "| 121 | Lord of the Rings: The Fellowship of the Ring, ... |        5 |\n",
            "| 155 | Freaks (1932)                                      |        5 |\n",
            "| 131 | Lord of the Rings: The Two Towers, The (2002)      |        5 |\n",
            "| 145 | Lord of the Rings: The Return of the King, The ... |        5 |\n",
            "|   0 | Jumanji (1995)                                     |        4 |\n",
            "| 106 | O Brother, Where Art Thou? (2000)                  |        4 |\n",
            "| 100 | Hook (1991)                                        |        4 |\n",
            "| 101 | Misery (1990)                                      |        4 |\n",
            "| 103 | Crouching Tiger, Hidden Dragon (Wo hu cang long... |        4 |\n",
            "| 104 | Dungeons & Dragons (2000)                          |        4 |\n",
            "+-----+----------------------------------------------------+----------+\n",
            "160 rows x 2 columns\n",
            "149/149 [==============================] - 1s 2ms/step\n",
            "+----+----------------------------------------------------+----------+\n",
            "|    | title                                              |   rating |\n",
            "|----+----------------------------------------------------+----------|\n",
            "|  0 | Freedom Writers (2007)                             |  3.64652 |\n",
            "|  1 | Night, The (Notte, La) (1960)                      |  3.64574 |\n",
            "|  2 | Submarine (2010)                                   |  3.64441 |\n",
            "|  3 | Silk (2007)                                        |  3.64325 |\n",
            "|  4 | Paper Clips (2004)                                 |  3.64099 |\n",
            "|  5 | Keeping Mum (2005)                                 |  3.63931 |\n",
            "|  6 | Samurai Rebellion (Jôi-uchi: Hairyô tsuma shima... |  3.63816 |\n",
            "|  7 | Rite, The (2011)                                   |  3.63556 |\n",
            "|  8 | You Will Meet a Tall Dark Stranger (2010)          |  3.63472 |\n",
            "|  9 | Johnny English Reborn (2011)                       |  3.6338  |\n",
            "+----+----------------------------------------------------+----------+\n",
            "10 rows x 2 columns\n"
          ]
        }
      ]
    },
    {
      "cell_type": "markdown",
      "source": [
        "## TEXT Features"
      ],
      "metadata": {
        "id": "1gbS5PGi-6Uv"
      }
    },
    {
      "cell_type": "markdown",
      "source": [
        "Model 2: Network with Item Features\n",
        "\n",
        "In this section, we build a simple extension of the basic neural collaborative filtering network to incroporate embeddigns produced based movie tags.\n",
        "\n",
        "We create item embeddigns by concatenating all movie tags into pseudo-sentence and encoding it using a pre-trained MiniLM model"
      ],
      "metadata": {
        "id": "-qUxuOn9-6kj"
      }
    },
    {
      "cell_type": "code",
      "source": [
        "text_model = SentenceTransformer('all-MiniLM-L6-v2')\n",
        "items['item_features'] = items['tag'].transform(text_model.encode)\n",
        "\n",
        "item_features_r = ratings.merge(items[['item_id', 'item_features']], on='item_id')['item_features']\n",
        "item_features_r = np.vstack(item_features_r)\n",
        "print(f'Item features shape: {item_features_r.shape}')\n",
        "feature_dim = item_features_r.shape[1]\n",
        "\n",
        "x1_train, x2_train, x3_train = ratings['user_id'].values[train_idx], ratings['item_id'].values[train_idx], item_features_r[train_idx]\n",
        "x1_test, x2_test, x3_test = ratings['user_id'].values[test_idx], ratings['item_id'].values[test_idx], item_features_r[test_idx]\n",
        "y_train, y_test = ratings['rating'].values[train_idx], ratings['rating'].values[test_idx]\n",
        "\n",
        "del item_features_r"
      ],
      "metadata": {
        "id": "UiP5QbBLAnle"
      },
      "execution_count": null,
      "outputs": []
    },
    {
      "cell_type": "code",
      "source": [
        "def model_hybrid(embedding_dim):\n",
        "    input_user = Input(shape=(1,))\n",
        "    input_item = Input(shape=(1,))\n",
        "    input_item_e = Input(shape=(feature_dim,))\n",
        "\n",
        "    embedding_user = Embedding(input_dim=max_user_id + 1, output_dim=embedding_dim)(input_user)\n",
        "    embedding_item = Embedding(input_dim=max_item_id + 1, output_dim=embedding_dim)(input_item)\n",
        "\n",
        "    #e1 = Flatten()(embedding_user)\n",
        "    #e2 = Flatten()(embedding_item)\n",
        "    e1 = embedding_user\n",
        "    e2 = embedding_item\n",
        "\n",
        "    t = Dense(embedding_dim, activation='relu')(input_item_e)\n",
        "    e2 = Add()([e2, t])\n",
        "    #e2 = Dense(embedding_dim, activation='relu')(e2)\n",
        "\n",
        "    combined = Dot(axes=2)([e1, e2])\n",
        "    rating = Dense(1, activation='linear')(combined)\n",
        "\n",
        "    model = Model(inputs=[input_user, input_item, input_item_e], outputs=rating)\n",
        "\n",
        "    return model"
      ],
      "metadata": {
        "id": "J24ML9P-AoNz"
      },
      "execution_count": null,
      "outputs": []
    },
    {
      "cell_type": "code",
      "source": [
        "# Model training\n",
        "#\n",
        "model_hybrid_k = model_hybrid(embedding_dim = 8)\n",
        "model_hybrid_k.compile(optimizer='adam', loss='mse', metrics=[tf.keras.metrics.RootMeanSquaredError()])\n",
        "history_hybrid = model_hybrid_k.fit([x1_train, x2_train, x3_train], y_train,\n",
        "                           batch_size=256,\n",
        "                           epochs=16,\n",
        "                           validation_data=([x1_test, x2_test, x3_test], y_test),\n",
        "                           verbose=1)\n",
        "plot_keras_training_hitory(history_hybrid)"
      ],
      "metadata": {
        "id": "MDN_zM52A1FF"
      },
      "execution_count": null,
      "outputs": []
    },
    {
      "cell_type": "code",
      "source": [
        "def recommend_for_user_hybrid(model, user_id, k):\n",
        "    x1, x2, x3 = np.repeat(user_id, n_items), item_ids, np.vstack(items['item_features'].values)\n",
        "    ratings = model.predict([x1, x2, x3]).ravel()\n",
        "    top_k_indexes = ratings.argsort()[-k:][::-1]\n",
        "    return x2[top_k_indexes], ratings[top_k_indexes]"
      ],
      "metadata": {
        "id": "EZ3vhfOMAwGw"
      },
      "execution_count": null,
      "outputs": []
    },
    {
      "cell_type": "code",
      "source": [
        "# Generate recommendations for an example user\n",
        "#\n",
        "user_id = 0\n",
        "k_recomendations = 10\n",
        "print_df(get_items(user_id), col_width = 50, rows = 10)\n",
        "r_items, r_ratings = recommend_for_user_hybrid(model_hybrid_k, user_id, k_recomendations)\n",
        "show_recommendations(r_items, r_ratings)"
      ],
      "metadata": {
        "id": "SaVVg6kbAxw9"
      },
      "execution_count": null,
      "outputs": []
    }
  ]
}